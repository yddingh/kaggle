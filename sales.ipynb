{
 "cells": [
  {
   "cell_type": "code",
   "execution_count": 1,
   "id": "c407a40b",
   "metadata": {
    "_cell_guid": "b1076dfc-b9ad-4769-8c92-a6c4dae69d19",
    "_uuid": "8f2839f25d086af736a60e9eeb907d3b93b6e0e5",
    "execution": {
     "iopub.execute_input": "2025-07-18T08:36:24.499262Z",
     "iopub.status.busy": "2025-07-18T08:36:24.498841Z",
     "iopub.status.idle": "2025-07-18T08:36:26.564716Z",
     "shell.execute_reply": "2025-07-18T08:36:26.563669Z"
    },
    "papermill": {
     "duration": 2.071973,
     "end_time": "2025-07-18T08:36:26.566675",
     "exception": false,
     "start_time": "2025-07-18T08:36:24.494702",
     "status": "completed"
    },
    "tags": []
   },
   "outputs": [
    {
     "name": "stdout",
     "output_type": "stream",
     "text": [
      "/kaggle/input/store-sales-time-series-forecasting/oil.csv\n",
      "/kaggle/input/store-sales-time-series-forecasting/sample_submission.csv\n",
      "/kaggle/input/store-sales-time-series-forecasting/holidays_events.csv\n",
      "/kaggle/input/store-sales-time-series-forecasting/stores.csv\n",
      "/kaggle/input/store-sales-time-series-forecasting/train.csv\n",
      "/kaggle/input/store-sales-time-series-forecasting/test.csv\n",
      "/kaggle/input/store-sales-time-series-forecasting/transactions.csv\n"
     ]
    }
   ],
   "source": [
    "# This Python 3 environment comes with many helpful analytics libraries installed\n",
    "# It is defined by the kaggle/python Docker image: https://github.com/kaggle/docker-python\n",
    "# For example, here's several helpful packages to load\n",
    "\n",
    "import numpy as np # linear algebra\n",
    "import pandas as pd # data processing, CSV file I/O (e.g. pd.read_csv)\n",
    "\n",
    "# Input data files are available in the read-only \"../input/\" directory\n",
    "# For example, running this (by clicking run or pressing Shift+Enter) will list all files under the input directory\n",
    "\n",
    "import os\n",
    "for dirname, _, filenames in os.walk('/kaggle/input'):\n",
    "    for filename in filenames:\n",
    "        print(os.path.join(dirname, filename))\n",
    "\n",
    "# You can write up to 20GB to the current directory (/kaggle/working/) that gets preserved as output when you create a version using \"Save & Run All\" \n",
    "# You can also write temporary files to /kaggle/temp/, but they won't be saved outside of the current session"
   ]
  },
  {
   "cell_type": "code",
   "execution_count": 2,
   "id": "223e0f28",
   "metadata": {
    "execution": {
     "iopub.execute_input": "2025-07-18T08:36:26.573373Z",
     "iopub.status.busy": "2025-07-18T08:36:26.572913Z",
     "iopub.status.idle": "2025-07-18T08:36:29.720109Z",
     "shell.execute_reply": "2025-07-18T08:36:29.718937Z"
    },
    "papermill": {
     "duration": 3.152114,
     "end_time": "2025-07-18T08:36:29.721678",
     "exception": false,
     "start_time": "2025-07-18T08:36:26.569564",
     "status": "completed"
    },
    "tags": []
   },
   "outputs": [
    {
     "name": "stdout",
     "output_type": "stream",
     "text": [
      "trainset (3000888, 6)\n",
      "testset (28512, 5)\n",
      "stores (54, 5)\n",
      "holidays (350, 6)\n",
      "oil (1218, 2)\n",
      "transactions (83488, 3)\n"
     ]
    }
   ],
   "source": [
    "# input dataset\n",
    "train = pd.read_csv(\"/kaggle/input/store-sales-time-series-forecasting/train.csv\")\n",
    "test = pd.read_csv(\"/kaggle/input/store-sales-time-series-forecasting/test.csv\")\n",
    "stores = pd.read_csv('/kaggle/input/store-sales-time-series-forecasting/stores.csv')\n",
    "holidays = pd.read_csv('/kaggle/input/store-sales-time-series-forecasting/holidays_events.csv', parse_dates=['date'])\n",
    "oil = pd.read_csv('/kaggle/input/store-sales-time-series-forecasting/oil.csv', parse_dates=['date'])\n",
    "transactions = pd.read_csv('/kaggle/input/store-sales-time-series-forecasting/transactions.csv', parse_dates=['date'])\n",
    "\n",
    "# print the shape of dataset\n",
    "print(\"trainset\",train.shape)\n",
    "print(\"testset\",test.shape)\n",
    "print(\"stores\",stores.shape)\n",
    "print(\"holidays\",holidays.shape)\n",
    "print(\"oil\",oil.shape)\n",
    "print(\"transactions\",transactions.shape)"
   ]
  },
  {
   "cell_type": "code",
   "execution_count": 3,
   "id": "4a3bc10e",
   "metadata": {
    "execution": {
     "iopub.execute_input": "2025-07-18T08:36:29.727850Z",
     "iopub.status.busy": "2025-07-18T08:36:29.727503Z",
     "iopub.status.idle": "2025-07-18T08:36:29.749709Z",
     "shell.execute_reply": "2025-07-18T08:36:29.748638Z"
    },
    "papermill": {
     "duration": 0.027059,
     "end_time": "2025-07-18T08:36:29.751343",
     "exception": false,
     "start_time": "2025-07-18T08:36:29.724284",
     "status": "completed"
    },
    "tags": []
   },
   "outputs": [
    {
     "data": {
      "text/plain": [
       "<bound method DataFrame.info of               id        date  store_nbr                      family     sales  \\\n",
       "0              0  2013-01-01          1                  AUTOMOTIVE     0.000   \n",
       "1              1  2013-01-01          1                   BABY CARE     0.000   \n",
       "2              2  2013-01-01          1                      BEAUTY     0.000   \n",
       "3              3  2013-01-01          1                   BEVERAGES     0.000   \n",
       "4              4  2013-01-01          1                       BOOKS     0.000   \n",
       "...          ...         ...        ...                         ...       ...   \n",
       "3000883  3000883  2017-08-15          9                     POULTRY   438.133   \n",
       "3000884  3000884  2017-08-15          9              PREPARED FOODS   154.553   \n",
       "3000885  3000885  2017-08-15          9                     PRODUCE  2419.729   \n",
       "3000886  3000886  2017-08-15          9  SCHOOL AND OFFICE SUPPLIES   121.000   \n",
       "3000887  3000887  2017-08-15          9                     SEAFOOD    16.000   \n",
       "\n",
       "         onpromotion  \n",
       "0                  0  \n",
       "1                  0  \n",
       "2                  0  \n",
       "3                  0  \n",
       "4                  0  \n",
       "...              ...  \n",
       "3000883            0  \n",
       "3000884            1  \n",
       "3000885          148  \n",
       "3000886            8  \n",
       "3000887            0  \n",
       "\n",
       "[3000888 rows x 6 columns]>"
      ]
     },
     "execution_count": 3,
     "metadata": {},
     "output_type": "execute_result"
    }
   ],
   "source": [
    "# check the contents of train set\n",
    "train.info"
   ]
  },
  {
   "cell_type": "code",
   "execution_count": 4,
   "id": "29ee7301",
   "metadata": {
    "execution": {
     "iopub.execute_input": "2025-07-18T08:36:29.758166Z",
     "iopub.status.busy": "2025-07-18T08:36:29.757525Z",
     "iopub.status.idle": "2025-07-18T08:36:29.767678Z",
     "shell.execute_reply": "2025-07-18T08:36:29.766683Z"
    },
    "papermill": {
     "duration": 0.015388,
     "end_time": "2025-07-18T08:36:29.769369",
     "exception": false,
     "start_time": "2025-07-18T08:36:29.753981",
     "status": "completed"
    },
    "tags": []
   },
   "outputs": [
    {
     "data": {
      "text/plain": [
       "<bound method DataFrame.info of             date  store_nbr  transactions\n",
       "0     2013-01-01         25           770\n",
       "1     2013-01-02          1          2111\n",
       "2     2013-01-02          2          2358\n",
       "3     2013-01-02          3          3487\n",
       "4     2013-01-02          4          1922\n",
       "...          ...        ...           ...\n",
       "83483 2017-08-15         50          2804\n",
       "83484 2017-08-15         51          1573\n",
       "83485 2017-08-15         52          2255\n",
       "83486 2017-08-15         53           932\n",
       "83487 2017-08-15         54           802\n",
       "\n",
       "[83488 rows x 3 columns]>"
      ]
     },
     "execution_count": 4,
     "metadata": {},
     "output_type": "execute_result"
    }
   ],
   "source": [
    "transactions.info"
   ]
  },
  {
   "cell_type": "code",
   "execution_count": 5,
   "id": "5553e3fb",
   "metadata": {
    "collapsed": true,
    "execution": {
     "iopub.execute_input": "2025-07-18T08:36:29.776686Z",
     "iopub.status.busy": "2025-07-18T08:36:29.776349Z",
     "iopub.status.idle": "2025-07-18T08:36:29.786888Z",
     "shell.execute_reply": "2025-07-18T08:36:29.785910Z"
    },
    "jupyter": {
     "outputs_hidden": true
    },
    "papermill": {
     "duration": 0.016295,
     "end_time": "2025-07-18T08:36:29.788618",
     "exception": false,
     "start_time": "2025-07-18T08:36:29.772323",
     "status": "completed"
    },
    "tags": []
   },
   "outputs": [
    {
     "name": "stderr",
     "output_type": "stream",
     "text": [
      "/usr/local/lib/python3.11/dist-packages/pandas/io/formats/format.py:1458: RuntimeWarning: invalid value encountered in greater\n",
      "  has_large_values = (abs_vals > 1e6).any()\n",
      "/usr/local/lib/python3.11/dist-packages/pandas/io/formats/format.py:1459: RuntimeWarning: invalid value encountered in less\n",
      "  has_small_values = ((abs_vals < 10 ** (-self.digits)) & (abs_vals > 0)).any()\n",
      "/usr/local/lib/python3.11/dist-packages/pandas/io/formats/format.py:1459: RuntimeWarning: invalid value encountered in greater\n",
      "  has_small_values = ((abs_vals < 10 ** (-self.digits)) & (abs_vals > 0)).any()\n"
     ]
    },
    {
     "data": {
      "text/plain": [
       "<bound method DataFrame.info of            date  dcoilwtico\n",
       "0    2013-01-01         NaN\n",
       "1    2013-01-02       93.14\n",
       "2    2013-01-03       92.97\n",
       "3    2013-01-04       93.12\n",
       "4    2013-01-07       93.20\n",
       "...         ...         ...\n",
       "1213 2017-08-25       47.65\n",
       "1214 2017-08-28       46.40\n",
       "1215 2017-08-29       46.46\n",
       "1216 2017-08-30       45.96\n",
       "1217 2017-08-31       47.26\n",
       "\n",
       "[1218 rows x 2 columns]>"
      ]
     },
     "execution_count": 5,
     "metadata": {},
     "output_type": "execute_result"
    }
   ],
   "source": [
    "oil.info"
   ]
  },
  {
   "cell_type": "code",
   "execution_count": 6,
   "id": "17a340b0",
   "metadata": {
    "execution": {
     "iopub.execute_input": "2025-07-18T08:36:29.795789Z",
     "iopub.status.busy": "2025-07-18T08:36:29.795474Z",
     "iopub.status.idle": "2025-07-18T08:36:29.808942Z",
     "shell.execute_reply": "2025-07-18T08:36:29.808164Z"
    },
    "papermill": {
     "duration": 0.018941,
     "end_time": "2025-07-18T08:36:29.810489",
     "exception": false,
     "start_time": "2025-07-18T08:36:29.791548",
     "status": "completed"
    },
    "tags": []
   },
   "outputs": [
    {
     "data": {
      "text/plain": [
       "<bound method DataFrame.info of           date        type    locale locale_name  \\\n",
       "0   2012-03-02     Holiday     Local       Manta   \n",
       "1   2012-04-01     Holiday  Regional    Cotopaxi   \n",
       "2   2012-04-12     Holiday     Local      Cuenca   \n",
       "3   2012-04-14     Holiday     Local    Libertad   \n",
       "4   2012-04-21     Holiday     Local    Riobamba   \n",
       "..         ...         ...       ...         ...   \n",
       "345 2017-12-22  Additional  National     Ecuador   \n",
       "346 2017-12-23  Additional  National     Ecuador   \n",
       "347 2017-12-24  Additional  National     Ecuador   \n",
       "348 2017-12-25     Holiday  National     Ecuador   \n",
       "349 2017-12-26  Additional  National     Ecuador   \n",
       "\n",
       "                       description  transferred  \n",
       "0               Fundacion de Manta        False  \n",
       "1    Provincializacion de Cotopaxi        False  \n",
       "2              Fundacion de Cuenca        False  \n",
       "3        Cantonizacion de Libertad        False  \n",
       "4        Cantonizacion de Riobamba        False  \n",
       "..                             ...          ...  \n",
       "345                      Navidad-3        False  \n",
       "346                      Navidad-2        False  \n",
       "347                      Navidad-1        False  \n",
       "348                        Navidad        False  \n",
       "349                      Navidad+1        False  \n",
       "\n",
       "[350 rows x 6 columns]>"
      ]
     },
     "execution_count": 6,
     "metadata": {},
     "output_type": "execute_result"
    }
   ],
   "source": [
    "holidays.info"
   ]
  },
  {
   "cell_type": "code",
   "execution_count": 7,
   "id": "a636b974",
   "metadata": {
    "execution": {
     "iopub.execute_input": "2025-07-18T08:36:29.817577Z",
     "iopub.status.busy": "2025-07-18T08:36:29.817298Z",
     "iopub.status.idle": "2025-07-18T08:36:31.859753Z",
     "shell.execute_reply": "2025-07-18T08:36:31.858427Z"
    },
    "papermill": {
     "duration": 2.048043,
     "end_time": "2025-07-18T08:36:31.861536",
     "exception": false,
     "start_time": "2025-07-18T08:36:29.813493",
     "status": "completed"
    },
    "tags": []
   },
   "outputs": [
    {
     "name": "stderr",
     "output_type": "stream",
     "text": [
      "/usr/local/lib/python3.11/dist-packages/pandas/io/formats/format.py:1458: RuntimeWarning: invalid value encountered in greater\n",
      "  has_large_values = (abs_vals > 1e6).any()\n",
      "/usr/local/lib/python3.11/dist-packages/pandas/io/formats/format.py:1459: RuntimeWarning: invalid value encountered in less\n",
      "  has_small_values = ((abs_vals < 10 ** (-self.digits)) & (abs_vals > 0)).any()\n",
      "/usr/local/lib/python3.11/dist-packages/pandas/io/formats/format.py:1459: RuntimeWarning: invalid value encountered in greater\n",
      "  has_small_values = ((abs_vals < 10 ** (-self.digits)) & (abs_vals > 0)).any()\n"
     ]
    },
    {
     "data": {
      "text/plain": [
       "<bound method DataFrame.info of               id       date  store_nbr                      family     sales  \\\n",
       "0              0 2013-01-01          1                  AUTOMOTIVE     0.000   \n",
       "1              1 2013-01-01          1                   BABY CARE     0.000   \n",
       "2              2 2013-01-01          1                      BEAUTY     0.000   \n",
       "3              3 2013-01-01          1                   BEVERAGES     0.000   \n",
       "4              4 2013-01-01          1                       BOOKS     0.000   \n",
       "...          ...        ...        ...                         ...       ...   \n",
       "3000883  3000883 2017-08-15          9                     POULTRY   438.133   \n",
       "3000884  3000884 2017-08-15          9              PREPARED FOODS   154.553   \n",
       "3000885  3000885 2017-08-15          9                     PRODUCE  2419.729   \n",
       "3000886  3000886 2017-08-15          9  SCHOOL AND OFFICE SUPPLIES   121.000   \n",
       "3000887  3000887 2017-08-15          9                     SEAFOOD    16.000   \n",
       "\n",
       "         onpromotion   city      state type  cluster  transactions  dcoilwtico  \n",
       "0                  0  Quito  Pichincha    D       13           NaN         NaN  \n",
       "1                  0  Quito  Pichincha    D       13           NaN         NaN  \n",
       "2                  0  Quito  Pichincha    D       13           NaN         NaN  \n",
       "3                  0  Quito  Pichincha    D       13           NaN         NaN  \n",
       "4                  0  Quito  Pichincha    D       13           NaN         NaN  \n",
       "...              ...    ...        ...  ...      ...           ...         ...  \n",
       "3000883            0  Quito  Pichincha    B        6        2155.0       47.57  \n",
       "3000884            1  Quito  Pichincha    B        6        2155.0       47.57  \n",
       "3000885          148  Quito  Pichincha    B        6        2155.0       47.57  \n",
       "3000886            8  Quito  Pichincha    B        6        2155.0       47.57  \n",
       "3000887            0  Quito  Pichincha    B        6        2155.0       47.57  \n",
       "\n",
       "[3000888 rows x 12 columns]>"
      ]
     },
     "execution_count": 7,
     "metadata": {},
     "output_type": "execute_result"
    }
   ],
   "source": [
    "# adjust date formats\n",
    "train['date'] = pd.to_datetime(train['date'])\n",
    "test['date'] = pd.to_datetime(test['date'])\n",
    "transactions['date'] = pd.to_datetime(transactions['date'])\n",
    "holidays['date'] = pd.to_datetime(holidays['date'])\n",
    "oil['date'] = pd.to_datetime(oil['date'])\n",
    "\n",
    "# merge the dataset\n",
    "train = train.merge(stores, on='store_nbr', how='left')\n",
    "test = test.merge(stores, on='store_nbr', how='left')\n",
    "\n",
    "train = train.merge(transactions, on=['date', 'store_nbr'], how='left')\n",
    "\n",
    "train = train.merge(oil, on='date', how='left')\n",
    "\n",
    "# holiday还没并\n",
    "\n",
    "train.info\n"
   ]
  },
  {
   "cell_type": "code",
   "execution_count": 8,
   "id": "ba205934",
   "metadata": {
    "execution": {
     "iopub.execute_input": "2025-07-18T08:36:31.869574Z",
     "iopub.status.busy": "2025-07-18T08:36:31.869279Z",
     "iopub.status.idle": "2025-07-18T08:36:33.470035Z",
     "shell.execute_reply": "2025-07-18T08:36:33.468372Z"
    },
    "papermill": {
     "duration": 1.607012,
     "end_time": "2025-07-18T08:36:33.471949",
     "exception": false,
     "start_time": "2025-07-18T08:36:31.864937",
     "status": "completed"
    },
    "tags": []
   },
   "outputs": [
    {
     "name": "stdout",
     "output_type": "stream",
     "text": [
      "---missing value---\n",
      "id                   0\n",
      "date                 0\n",
      "store_nbr            0\n",
      "family               0\n",
      "sales                0\n",
      "onpromotion          0\n",
      "city                 0\n",
      "state                0\n",
      "type                 0\n",
      "cluster              0\n",
      "transactions    245784\n",
      "dcoilwtico      928422\n",
      "dtype: int64\n",
      "\n",
      "---unique value---\n",
      "id:3000888\n",
      "date:1684\n",
      "store_nbr:54\n",
      "family:33\n",
      "sales:379610\n",
      "onpromotion:362\n",
      "city:22\n",
      "state:16\n",
      "type:5\n",
      "cluster:17\n",
      "transactions:4993\n",
      "dcoilwtico:994\n"
     ]
    }
   ],
   "source": [
    "# check the missing values\n",
    "print(\"---missing value---\")\n",
    "print(train.isnull().sum())\n",
    "\n",
    "print(\"\\n---unique value---\")\n",
    "for col in train:\n",
    "    print(f\"{col}:{train[col].nunique()}\")"
   ]
  }
 ],
 "metadata": {
  "kaggle": {
   "accelerator": "none",
   "dataSources": [
    {
     "databundleVersionId": 2887556,
     "sourceId": 29781,
     "sourceType": "competition"
    }
   ],
   "dockerImageVersionId": 31089,
   "isGpuEnabled": false,
   "isInternetEnabled": false,
   "language": "python",
   "sourceType": "notebook"
  },
  "kernelspec": {
   "display_name": "Python 3",
   "language": "python",
   "name": "python3"
  },
  "language_info": {
   "codemirror_mode": {
    "name": "ipython",
    "version": 3
   },
   "file_extension": ".py",
   "mimetype": "text/x-python",
   "name": "python",
   "nbconvert_exporter": "python",
   "pygments_lexer": "ipython3",
   "version": "3.11.13"
  },
  "papermill": {
   "default_parameters": {},
   "duration": 14.505201,
   "end_time": "2025-07-18T08:36:34.098885",
   "environment_variables": {},
   "exception": null,
   "input_path": "__notebook__.ipynb",
   "output_path": "__notebook__.ipynb",
   "parameters": {},
   "start_time": "2025-07-18T08:36:19.593684",
   "version": "2.6.0"
  }
 },
 "nbformat": 4,
 "nbformat_minor": 5
}
