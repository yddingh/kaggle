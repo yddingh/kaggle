{
 "cells": [
  {
   "cell_type": "code",
   "execution_count": 1,
   "id": "1cb43075",
   "metadata": {
    "_cell_guid": "b1076dfc-b9ad-4769-8c92-a6c4dae69d19",
    "_uuid": "8f2839f25d086af736a60e9eeb907d3b93b6e0e5",
    "execution": {
     "iopub.execute_input": "2025-07-16T07:23:11.921219Z",
     "iopub.status.busy": "2025-07-16T07:23:11.920494Z",
     "iopub.status.idle": "2025-07-16T07:23:13.687897Z",
     "shell.execute_reply": "2025-07-16T07:23:13.686908Z"
    },
    "papermill": {
     "duration": 1.772563,
     "end_time": "2025-07-16T07:23:13.689476",
     "exception": false,
     "start_time": "2025-07-16T07:23:11.916913",
     "status": "completed"
    },
    "tags": []
   },
   "outputs": [
    {
     "name": "stdout",
     "output_type": "stream",
     "text": [
      "/kaggle/input/store-sales-time-series-forecasting/oil.csv\n",
      "/kaggle/input/store-sales-time-series-forecasting/sample_submission.csv\n",
      "/kaggle/input/store-sales-time-series-forecasting/holidays_events.csv\n",
      "/kaggle/input/store-sales-time-series-forecasting/stores.csv\n",
      "/kaggle/input/store-sales-time-series-forecasting/train.csv\n",
      "/kaggle/input/store-sales-time-series-forecasting/test.csv\n",
      "/kaggle/input/store-sales-time-series-forecasting/transactions.csv\n"
     ]
    }
   ],
   "source": [
    "# This Python 3 environment comes with many helpful analytics libraries installed\n",
    "# It is defined by the kaggle/python Docker image: https://github.com/kaggle/docker-python\n",
    "# For example, here's several helpful packages to load\n",
    "\n",
    "import numpy as np # linear algebra\n",
    "import pandas as pd # data processing, CSV file I/O (e.g. pd.read_csv)\n",
    "\n",
    "# Input data files are available in the read-only \"../input/\" directory\n",
    "# For example, running this (by clicking run or pressing Shift+Enter) will list all files under the input directory\n",
    "\n",
    "import os\n",
    "for dirname, _, filenames in os.walk('/kaggle/input'):\n",
    "    for filename in filenames:\n",
    "        print(os.path.join(dirname, filename))\n",
    "\n",
    "# You can write up to 20GB to the current directory (/kaggle/working/) that gets preserved as output when you create a version using \"Save & Run All\" \n",
    "# You can also write temporary files to /kaggle/temp/, but they won't be saved outside of the current session"
   ]
  },
  {
   "cell_type": "code",
   "execution_count": 2,
   "id": "dc7dffc5",
   "metadata": {
    "execution": {
     "iopub.execute_input": "2025-07-16T07:23:13.694218Z",
     "iopub.status.busy": "2025-07-16T07:23:13.693853Z",
     "iopub.status.idle": "2025-07-16T07:23:17.375743Z",
     "shell.execute_reply": "2025-07-16T07:23:17.374779Z"
    },
    "papermill": {
     "duration": 3.68578,
     "end_time": "2025-07-16T07:23:17.377229",
     "exception": false,
     "start_time": "2025-07-16T07:23:13.691449",
     "status": "completed"
    },
    "tags": []
   },
   "outputs": [
    {
     "name": "stdout",
     "output_type": "stream",
     "text": [
      "trainset (3000888, 6)\n",
      "testset (28512, 5)\n"
     ]
    }
   ],
   "source": [
    "# input dataset\n",
    "train = pd.read_csv(\"/kaggle/input/store-sales-time-series-forecasting/train.csv\")\n",
    "test = pd.read_csv(\"/kaggle/input/store-sales-time-series-forecasting/test.csv\")\n",
    "\n",
    "# print the shape of dataset\n",
    "print(\"trainset\",train.shape)\n",
    "print(\"testset\",test.shape)\n"
   ]
  },
  {
   "cell_type": "code",
   "execution_count": 3,
   "id": "7c38ef32",
   "metadata": {
    "execution": {
     "iopub.execute_input": "2025-07-16T07:23:17.382054Z",
     "iopub.status.busy": "2025-07-16T07:23:17.381745Z",
     "iopub.status.idle": "2025-07-16T07:23:17.405185Z",
     "shell.execute_reply": "2025-07-16T07:23:17.404185Z"
    },
    "papermill": {
     "duration": 0.027505,
     "end_time": "2025-07-16T07:23:17.406741",
     "exception": false,
     "start_time": "2025-07-16T07:23:17.379236",
     "status": "completed"
    },
    "tags": []
   },
   "outputs": [
    {
     "data": {
      "text/plain": [
       "<bound method DataFrame.info of               id        date  store_nbr                      family     sales  \\\n",
       "0              0  2013-01-01          1                  AUTOMOTIVE     0.000   \n",
       "1              1  2013-01-01          1                   BABY CARE     0.000   \n",
       "2              2  2013-01-01          1                      BEAUTY     0.000   \n",
       "3              3  2013-01-01          1                   BEVERAGES     0.000   \n",
       "4              4  2013-01-01          1                       BOOKS     0.000   \n",
       "...          ...         ...        ...                         ...       ...   \n",
       "3000883  3000883  2017-08-15          9                     POULTRY   438.133   \n",
       "3000884  3000884  2017-08-15          9              PREPARED FOODS   154.553   \n",
       "3000885  3000885  2017-08-15          9                     PRODUCE  2419.729   \n",
       "3000886  3000886  2017-08-15          9  SCHOOL AND OFFICE SUPPLIES   121.000   \n",
       "3000887  3000887  2017-08-15          9                     SEAFOOD    16.000   \n",
       "\n",
       "         onpromotion  \n",
       "0                  0  \n",
       "1                  0  \n",
       "2                  0  \n",
       "3                  0  \n",
       "4                  0  \n",
       "...              ...  \n",
       "3000883            0  \n",
       "3000884            1  \n",
       "3000885          148  \n",
       "3000886            8  \n",
       "3000887            0  \n",
       "\n",
       "[3000888 rows x 6 columns]>"
      ]
     },
     "execution_count": 3,
     "metadata": {},
     "output_type": "execute_result"
    }
   ],
   "source": [
    "# check the contents of train set\n",
    "train.info"
   ]
  },
  {
   "cell_type": "code",
   "execution_count": 4,
   "id": "0b1edf5b",
   "metadata": {
    "execution": {
     "iopub.execute_input": "2025-07-16T07:23:17.411856Z",
     "iopub.status.busy": "2025-07-16T07:23:17.411567Z",
     "iopub.status.idle": "2025-07-16T07:23:18.331482Z",
     "shell.execute_reply": "2025-07-16T07:23:18.330361Z"
    },
    "papermill": {
     "duration": 0.924139,
     "end_time": "2025-07-16T07:23:18.332946",
     "exception": false,
     "start_time": "2025-07-16T07:23:17.408807",
     "status": "completed"
    },
    "tags": []
   },
   "outputs": [
    {
     "name": "stdout",
     "output_type": "stream",
     "text": [
      "---missing value---\n",
      "\n",
      "id             0\n",
      "date           0\n",
      "store_nbr      0\n",
      "family         0\n",
      "sales          0\n",
      "onpromotion    0\n",
      "dtype: int64\n",
      "---unique value---\n",
      "\n",
      "id:3000888\n",
      "date:1684\n",
      "store_nbr:54\n",
      "family:33\n",
      "sales:379610\n",
      "onpromotion:362\n"
     ]
    }
   ],
   "source": [
    "# check the missing values\n",
    "print(\"---missing value---\\n\")\n",
    "print(train.isnull().sum())\n",
    "\n",
    "print(\"---unique value---\\n\")\n",
    "for col in train:\n",
    "    print(f\"{col}:{train[col].nunique()}\")"
   ]
  }
 ],
 "metadata": {
  "kaggle": {
   "accelerator": "none",
   "dataSources": [
    {
     "databundleVersionId": 2887556,
     "sourceId": 29781,
     "sourceType": "competition"
    }
   ],
   "dockerImageVersionId": 31089,
   "isGpuEnabled": false,
   "isInternetEnabled": false,
   "language": "python",
   "sourceType": "notebook"
  },
  "kernelspec": {
   "display_name": "Python 3",
   "language": "python",
   "name": "python3"
  },
  "language_info": {
   "codemirror_mode": {
    "name": "ipython",
    "version": 3
   },
   "file_extension": ".py",
   "mimetype": "text/x-python",
   "name": "python",
   "nbconvert_exporter": "python",
   "pygments_lexer": "ipython3",
   "version": "3.11.13"
  },
  "papermill": {
   "default_parameters": {},
   "duration": 11.592592,
   "end_time": "2025-07-16T07:23:18.854611",
   "environment_variables": {},
   "exception": null,
   "input_path": "__notebook__.ipynb",
   "output_path": "__notebook__.ipynb",
   "parameters": {},
   "start_time": "2025-07-16T07:23:07.262019",
   "version": "2.6.0"
  }
 },
 "nbformat": 4,
 "nbformat_minor": 5
}
